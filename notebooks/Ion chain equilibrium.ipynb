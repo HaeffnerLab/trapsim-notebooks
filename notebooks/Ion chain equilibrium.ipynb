{
 "cells": [
  {
   "cell_type": "markdown",
   "metadata": {},
   "source": [
    "## Equilibrium points of a linear ion chain"
   ]
  },
  {
   "cell_type": "markdown",
   "metadata": {},
   "source": [
    "This notebook performs a classical calculation of the equilibrium positions of a chain of ions in an arbitrary 1D potential. This is a rather good approximation to the 3D equilibrium positions of the ions bound in a surface electrode trap."
   ]
  },
  {
   "cell_type": "markdown",
   "metadata": {},
   "source": [
    "First define a few physical constants to set up the problem."
   ]
  },
  {
   "cell_type": "code",
   "execution_count": 95,
   "metadata": {
    "collapsed": false
   },
   "outputs": [],
   "source": [
    "from scipy.constants import e\n",
    "\n",
    "axis_scale = 1e-6\n",
    "ion_count = 40\n",
    "ion_charge = e"
   ]
  },
  {
   "cell_type": "markdown",
   "metadata": {},
   "source": [
    "Next import the potential data along the trapping axis."
   ]
  },
  {
   "cell_type": "code",
   "execution_count": 96,
   "metadata": {
    "collapsed": false
   },
   "outputs": [],
   "source": [
    "import numpy as np\n",
    "import scipy.interpolate\n",
    "import yaml\n",
    "\n",
    "data_dir = 'data/current_sim/'\n",
    "\n",
    "# Import axis data\n",
    "with open(data_dir + '/grid.txt') as f:\n",
    "    grid = yaml.load(f)\n",
    "x_ax = axis_scale * np.linspace(grid['starty'], grid['endy'], grid['dimy'])\n",
    "x_len = (x_ax[-1] - x_ax[0]) / 2\n",
    "\n",
    "# Import potential data\n",
    "v_dat = np.loadtxt(data_dir + '/axis.txt')"
   ]
  },
  {
   "cell_type": "markdown",
   "metadata": {},
   "source": [
    "The potential is fit to a polynomial and its derivative is calculated for evaluating the energy gradient."
   ]
  },
  {
   "cell_type": "code",
   "execution_count": 97,
   "metadata": {
    "collapsed": true
   },
   "outputs": [],
   "source": [
    "from numpy.polynomial.polynomial import polyfit, Polynomial\n",
    "\n",
    "# Fit to degree 6\n",
    "v_pfit = polyfit(x_ax, v_dat, 6)\n",
    "v = Polynomial(v_pfit)\n",
    "v_grad = v.deriv()"
   ]
  },
  {
   "cell_type": "markdown",
   "metadata": {},
   "source": [
    "The equilibrium positions will be found by minimizing total energy of the system as a function of the ion positions. The mathematical formula is the sum of the potential at each position and the Coulomb interaction of each particle pair:\n",
    "\n",
    "$$\\Phi(\\mathbf x) = Q \\sum_{i=1}^n V(x_i) + \\frac{Q^2}{4 \\pi \\epsilon_0} \\sum_{i=2}^n \\sum_{j=1}^{i-1} \\frac{1}{|x_i - x_j|}$$\n",
    "\n",
    "where $Q$ is the ion charge, $V$ is the electric potential on the trap axis, and $\\mathbf x \\equiv (x_1, ..., x_n)$ is the ion position array."
   ]
  },
  {
   "cell_type": "code",
   "execution_count": 98,
   "metadata": {
    "collapsed": false
   },
   "outputs": [],
   "source": [
    "from scipy.constants import pi, epsilon_0\n",
    "\n",
    "coulomb_coef = ion_charge / (4 * pi * epsilon_0)\n",
    "\n",
    "def phi(x):\n",
    "    inverse_dist = [1 / abs(x[i] - x[j]) for i in range(1, len(x)) for j in range(i)]\n",
    "    return ion_charge * (sum(v(x)) + coulomb_coef * sum(inverse_dist))"
   ]
  },
  {
   "cell_type": "markdown",
   "metadata": {},
   "source": [
    "To improve the effectiveness of the optimizer, we analytically calculate the gradent of $\\Phi$ using the polynomial expansion of the potential $V$. The mathematical formula for the gradient is:\n",
    "\n",
    "$$(\\nabla \\Phi(\\mathbf x))_k = Q V'(x_k) - \\frac{Q^2}{4 \\pi \\epsilon_0} \\sum_{\\substack{j=1 \\\\ j\\ne k}}^n \\frac{x_k - x_j}{|x_k - x_j|^3}$$"
   ]
  },
  {
   "cell_type": "code",
   "execution_count": 99,
   "metadata": {
    "collapsed": false
   },
   "outputs": [],
   "source": [
    "def phi_grad(x):\n",
    "    grad = np.zeros(len(x))\n",
    "    for k in range(len(x)):\n",
    "        inverse_dist = [cmp(x[k], x[j]) / (x[k] - x[j])**2 for j in range(k) + range(k + 1, len(x))]\n",
    "        grad[k] = ion_charge * (v_grad(x[k]) - coulomb_coef * sum(inverse_dist))\n",
    "    return grad"
   ]
  },
  {
   "cell_type": "markdown",
   "metadata": {},
   "source": [
    "Now the data has to be \"pre-conditioned\" to make it suitable for running on the optimizer. The $x$-axis is normalized to the range $[-1, 1]$. The potential would ideally be normalized to make the gradient lie in a unit cube. Short of this, however, the energy will be normalized so the potential term lies roughly in $[-1, 1]$ as well."
   ]
  },
  {
   "cell_type": "code",
   "execution_count": 100,
   "metadata": {
    "collapsed": false
   },
   "outputs": [],
   "source": [
    "vmax = ion_charge * abs(v_dat).max()\n",
    "x_mid = (x_ax[-1] + x_ax[0]) / 2\n",
    "\n",
    "def phi_n(x):\n",
    "    return phi(x_len * x + x_mid) / vmax\n",
    "\n",
    "def phi_grad_n(x):\n",
    "    return x_len * phi_grad(x_len * x + x_mid) / vmax"
   ]
  },
  {
   "cell_type": "markdown",
   "metadata": {},
   "source": [
    "Our initial guess $x_0$ is that the particles are uniformly along the middle half of the axis. This is fairly accurate for symmetric potentials."
   ]
  },
  {
   "cell_type": "code",
   "execution_count": 101,
   "metadata": {
    "collapsed": false
   },
   "outputs": [],
   "source": [
    "x_0 = np.linspace(-0.5, 0.5, ion_count)"
   ]
  },
  {
   "cell_type": "markdown",
   "metadata": {},
   "source": [
    "Finally, we call SciPy's optimization routine to minimize the energy. SciPy provides numerous algorithms to use in the [`scipy.optimize`](http://docs.scipy.org/doc/scipy/reference/optimize.html) module. Consider using the conjugate gradient or L-BFGS methods if you have fewer or more ions, respectively."
   ]
  },
  {
   "cell_type": "code",
   "execution_count": 102,
   "metadata": {
    "collapsed": false
   },
   "outputs": [
    {
     "name": "stdout",
     "output_type": "stream",
     "text": [
      "Optimization terminated successfully.\n",
      "         Current function value: 3.699682\n",
      "         Iterations: 105\n",
      "         Function evaluations: 175\n",
      "         Gradient evaluations: 175\n",
      "[-0.41881207 -0.43354351 -0.44840706 -0.46381892 -0.48042599 -0.49976878\n",
      " -0.48952855 -0.47192918 -0.4560354  -0.44092703 -0.42616803 -0.41138936\n",
      " -0.3804159  -0.40380749 -0.39620449 -0.37212928 -0.36343743 -0.38842196\n",
      " -0.34442737 -0.33357127 -0.32125625 -0.51206537 -0.35426045 -0.30577934\n",
      "  0.18658314  0.21458682  0.25408943  0.23569676  0.2699019   0.29811439\n",
      "  0.32379925  0.34837803  0.37318316  0.40062167  0.4171115   0.386437\n",
      "  0.36058852  0.33616991  0.31116806  0.28452027]\n"
     ]
    }
   ],
   "source": [
    "from scipy.optimize import fmin_bfgs\n",
    "\n",
    "solution = fmin_bfgs(phi_n, x_0, fprime=phi_grad_n, gtol=1e-2)\n",
    "\n",
    "print(solution)"
   ]
  },
  {
   "cell_type": "code",
   "execution_count": 103,
   "metadata": {
    "collapsed": false
   },
   "outputs": [
    {
     "data": {
      "text/plain": [
       "<matplotlib.collections.PathCollection at 0x7facaf3e2b10>"
      ]
     },
     "execution_count": 103,
     "metadata": {},
     "output_type": "execute_result"
    },
    {
     "data": {
      "image/png": "[encoded data removed]",
      "text/plain": [
       "<matplotlib.figure.Figure at 0x7facaf4e12d0>"
      ]
     },
     "metadata": {},
     "output_type": "display_data"
    }
   ],
   "source": [
    "import matplotlib.pyplot as plt\n",
    "\n",
    "fig = plt.figure(figsize=(6, 4))\n",
    "ax = fig.add_subplot(111)\n",
    "ax.plot(x_ax, v_dat, 'b-')\n",
    "#ax.set_xlim([-1, 1])\n",
    "#ax.set_ylim([0, 1])\n",
    "ax.set_ylim(0, vmax / ion_charge)\n",
    "ax.set_xlim(-x_len, x_len)\n",
    "[y0, y1] = ax.get_ylim()\n",
    "ax.scatter(x_len * solution, [(y0 + y1) / 2] * len(x_0), c='orange', s=30)"
   ]
  },
  {
   "cell_type": "markdown",
   "metadata": {},
   "source": [
    "A significant time and resource improvement could potentially be by assuming the potential, and therefore equilibrium positions, are symmetric about the trap center. Performance has not been a concern yet, so we ignore this option."
   ]
  }
 ],
 "metadata": {
  "kernelspec": {
   "display_name": "Python 3",
   "language": "python",
   "name": "python3"
  },
  "language_info": {
   "codemirror_mode": {
    "name": "ipython",
    "version": 3
   },
   "file_extension": ".py",
   "mimetype": "text/x-python",
   "name": "python",
   "nbconvert_exporter": "python",
   "pygments_lexer": "ipython3",
   "version": "3.4.2"
  }
 },
 "nbformat": 4,
 "nbformat_minor": 0
}
